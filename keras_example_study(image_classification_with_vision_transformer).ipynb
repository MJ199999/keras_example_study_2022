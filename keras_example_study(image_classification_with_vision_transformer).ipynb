{
  "cells": [
    {
      "cell_type": "markdown",
      "source": [
        "참고 : [keras example image classification with version transformer](https://keras.io/examples/vision/image_classification_with_vision_transformer/)\n",
        "\n",
        "이해를 위한 영상자료\n",
        "\n",
        "https://youtu.be/i2_zJ0ANrw0 (keras code 리뷰)\n",
        "\n",
        "https://youtu.be/91Qipj5NMnk (엔자이너 TV-vision transformer)\n",
        "\n",
        "https://youtu.be/bgsYOGhpxDc (transformer / self-attention에 대한 이해)\n",
        "\n",
        "https://youtu.be/QcCJJOLCeJQ (vision transformer 발전의 의의)\n",
        "\n",
        "아래의 해석엔 의역, 오역이 있을 수 있습니다. "
      ],
      "metadata": {
        "id": "kZS5rP149XN_"
      }
    },
    {
      "cell_type": "markdown",
      "metadata": {
        "id": "91h_LqCecLz8"
      },
      "source": [
        "# Image classification with Vision Transformer\n",
        "\n",
        "**Author:** [Khalid Salama](https://www.linkedin.com/in/khalid-salama-24403144/)<br>\n",
        "**Date created:** 2021/01/18<br>\n",
        "**Last modified:** 2021/01/18<br>\n",
        "**Description:** Implementing the Vision Transformer (ViT) model for image classification."
      ]
    },
    {
      "cell_type": "markdown",
      "metadata": {
        "id": "2KGUyJKHcLz_"
      },
      "source": [
        "## Introduction\n",
        "\n",
        "이 예제에서는 이미지 분류를 위해 Alexey Dosovitskiy et al.의 [Vision Transformer (ViT)](https://arxiv.org/abs/2010.11929)를 구현하고, CIFAR-100 데이터셋에서 이를 시행합니다. ViT model은 이미지 패치 시퀀스에 Convolution layer를 사용하지 않고 self-attention으로 Transformer architecture를 적용합니다.\n",
        "\n",
        "이 예제는 Tensorflow 버전 2.4 이상의 버전([TensorFlow Addons](https://www.tensorflow.org/addons/overview))을 요구합니다. 아래의 코드로 설치가 가능합니다.\n",
        "```python\n",
        "pip install -U tensorflow-addons\n",
        "```"
      ]
    },
    {
      "cell_type": "markdown",
      "metadata": {
        "id": "FLJaOkdEcLz_"
      },
      "source": [
        "## Setup"
      ]
    },
    {
      "cell_type": "code",
      "source": [
        "pip install -U tensorflow-addons"
      ],
      "metadata": {
        "id": "TocN2gd2cdEw",
        "outputId": "fde7d51a-8e44-4430-a308-a66a24b1c95d",
        "colab": {
          "base_uri": "https://localhost:8080/"
        }
      },
      "execution_count": null,
      "outputs": [
        {
          "output_type": "stream",
          "name": "stdout",
          "text": [
            "Looking in indexes: https://pypi.org/simple, https://us-python.pkg.dev/colab-wheels/public/simple/\n",
            "Collecting tensorflow-addons\n",
            "  Downloading tensorflow_addons-0.18.0-cp37-cp37m-manylinux_2_17_x86_64.manylinux2014_x86_64.whl (1.1 MB)\n",
            "\u001b[K     |████████████████████████████████| 1.1 MB 31.3 MB/s \n",
            "\u001b[?25hRequirement already satisfied: typeguard>=2.7 in /usr/local/lib/python3.7/dist-packages (from tensorflow-addons) (2.7.1)\n",
            "Requirement already satisfied: packaging in /usr/local/lib/python3.7/dist-packages (from tensorflow-addons) (21.3)\n",
            "Requirement already satisfied: pyparsing!=3.0.5,>=2.0.2 in /usr/local/lib/python3.7/dist-packages (from packaging->tensorflow-addons) (3.0.9)\n",
            "Installing collected packages: tensorflow-addons\n",
            "Successfully installed tensorflow-addons-0.18.0\n"
          ]
        }
      ]
    },
    {
      "cell_type": "code",
      "execution_count": null,
      "metadata": {
        "id": "QPxAuy79cL0A"
      },
      "outputs": [],
      "source": [
        "import numpy as np\n",
        "import tensorflow as tf\n",
        "from tensorflow import keras\n",
        "from tensorflow.keras import layers\n",
        "import tensorflow_addons as tfa"
      ]
    },
    {
      "cell_type": "markdown",
      "metadata": {
        "id": "kkA3H5r0cL0B"
      },
      "source": [
        "## Prepare the data"
      ]
    },
    {
      "cell_type": "code",
      "execution_count": null,
      "metadata": {
        "id": "5-azi66ZcL0B",
        "outputId": "003e0f6d-64c0-4442-e30a-5e4f5b471294",
        "colab": {
          "base_uri": "https://localhost:8080/"
        }
      },
      "outputs": [
        {
          "output_type": "stream",
          "name": "stdout",
          "text": [
            "Downloading data from https://www.cs.toronto.edu/~kriz/cifar-100-python.tar.gz\n",
            "169001437/169001437 [==============================] - 14s 0us/step\n",
            "x_train shape: (50000, 32, 32, 3) - y_train shape: (50000, 1)\n",
            "x_test shape: (10000, 32, 32, 3) - y_test shape: (10000, 1)\n"
          ]
        }
      ],
      "source": [
        "num_classes = 100\n",
        "input_shape = (32, 32, 3)\n",
        "\n",
        "(x_train, y_train), (x_test, y_test) = keras.datasets.cifar100.load_data()\n",
        "\n",
        "print(f\"x_train shape: {x_train.shape} - y_train shape: {y_train.shape}\")\n",
        "print(f\"x_test shape: {x_test.shape} - y_test shape: {y_test.shape}\")\n"
      ]
    },
    {
      "cell_type": "markdown",
      "metadata": {
        "id": "tLaw3Z1KcL0C"
      },
      "source": [
        "## Configure the hyperparameters"
      ]
    },
    {
      "cell_type": "code",
      "execution_count": null,
      "metadata": {
        "id": "KECsj7UUcL0C"
      },
      "outputs": [],
      "source": [
        "learning_rate = 0.001\n",
        "weight_decay = 0.0001\n",
        "batch_size = 256\n",
        "num_epochs = 100\n",
        "image_size = 72  # 입력이미지의 크기를 이 사이즈로 조정합니다.\n",
        "patch_size = 6  # 입력이미지에서 추출할 패치의 크기\n",
        "num_patches = (image_size // patch_size) ** 2\n",
        "projection_dim = 64\n",
        "num_heads = 4\n",
        "transformer_units = [\n",
        "    projection_dim * 2,\n",
        "    projection_dim,\n",
        "]  # transformer의 레이어 사이즈\n",
        "transformer_layers = 8\n",
        "mlp_head_units = [2048, 1024]  # 최종 transformer에서의 dense layer사이즈\n"
      ]
    },
    {
      "cell_type": "markdown",
      "metadata": {
        "id": "E5VEgFS6cL0E"
      },
      "source": [
        "## Use data augmentation"
      ]
    },
    {
      "cell_type": "code",
      "execution_count": null,
      "metadata": {
        "id": "yeyHJcqLcL0E"
      },
      "outputs": [],
      "source": [
        "data_augmentation = keras.Sequential(\n",
        "    [\n",
        "        layers.Normalization(),\n",
        "        layers.Resizing(image_size, image_size),\n",
        "        layers.RandomFlip(\"horizontal\"),\n",
        "        layers.RandomRotation(factor=0.02),\n",
        "        layers.RandomZoom(\n",
        "            height_factor=0.2, width_factor=0.2\n",
        "        ),\n",
        "    ],\n",
        "    name=\"data_augmentation\",\n",
        ")\n",
        "# normalization을 위해 train data의 평균과 분산을 계산해줍니다.\n",
        "data_augmentation.layers[0].adapt(x_train)\n"
      ]
    },
    {
      "cell_type": "markdown",
      "metadata": {
        "id": "Zi5RR5NccL0F"
      },
      "source": [
        "## Implement multilayer perceptron (MLP)"
      ]
    },
    {
      "cell_type": "code",
      "execution_count": null,
      "metadata": {
        "id": "tTXw5FZdcL0F"
      },
      "outputs": [],
      "source": [
        "\n",
        "def mlp(x, hidden_units, dropout_rate):\n",
        "    for units in hidden_units:\n",
        "        x = layers.Dense(units, activation=tf.nn.gelu)(x)\n",
        "        x = layers.Dropout(dropout_rate)(x)\n",
        "    return x\n"
      ]
    },
    {
      "cell_type": "markdown",
      "metadata": {
        "id": "9CJZMtSIcL0F"
      },
      "source": [
        "## Implement patch creation as a layer"
      ]
    },
    {
      "cell_type": "code",
      "execution_count": null,
      "metadata": {
        "id": "0GICf-E0cL0F"
      },
      "outputs": [],
      "source": [
        "\n",
        "class Patches(layers.Layer):\n",
        "    def __init__(self, patch_size):\n",
        "        super(Patches, self).__init__()\n",
        "        self.patch_size = patch_size\n",
        "\n",
        "    def call(self, images):\n",
        "        batch_size = tf.shape(images)[0]\n",
        "        patches = tf.image.extract_patches(\n",
        "            images=images,\n",
        "            sizes=[1, self.patch_size, self.patch_size, 1],\n",
        "            strides=[1, self.patch_size, self.patch_size, 1],\n",
        "            rates=[1, 1, 1, 1],\n",
        "            padding=\"VALID\",\n",
        "        )\n",
        "        patch_dims = patches.shape[-1]\n",
        "        patches = tf.reshape(patches, [batch_size, -1, patch_dims])\n",
        "        return patches\n"
      ]
    },
    {
      "cell_type": "markdown",
      "metadata": {
        "id": "hxbN1g0acL0G"
      },
      "source": [
        "Let's display patches for a sample image\n",
        "\n",
        "이미지를 resize 후 patch사이즈로 쪼개기 "
      ]
    },
    {
      "cell_type": "code",
      "execution_count": null,
      "metadata": {
        "id": "p5ekQNF2cL0G",
        "outputId": "63fa3304-1363-4028-9384-dc817626c0fb",
        "colab": {
          "base_uri": "https://localhost:8080/",
          "height": 552
        }
      },
      "outputs": [
        {
          "output_type": "stream",
          "name": "stdout",
          "text": [
            "Image size: 72 X 72\n",
            "Patch size: 6 X 6\n",
            "Patches per image: 144\n",
            "Elements per patch: 108\n"
          ]
        },
        {
          "output_type": "display_data",
          "data": {
            "text/plain": [
              "<Figure size 288x288 with 1 Axes>"
            ],
            "image/png": "[encoded data removed]"
          },
          "metadata": {
            "needs_background": "light"
          }
        },
        {
          "output_type": "display_data",
          "data": {
            "text/plain": [
              "<Figure size 288x288 with 144 Axes>"
            ],
            "image/png": "[encoded data removed]"
          },
          "metadata": {
            "needs_background": "light"
          }
        }
      ],
      "source": [
        "import matplotlib.pyplot as plt\n",
        "\n",
        "plt.figure(figsize=(4, 4))\n",
        "image = x_train[np.random.choice(range(x_train.shape[0]))]\n",
        "plt.imshow(image.astype(\"uint8\"))\n",
        "plt.axis(\"off\")\n",
        "\n",
        "resized_image = tf.image.resize(\n",
        "    tf.convert_to_tensor([image]), size=(image_size, image_size)\n",
        ")\n",
        "patches = Patches(patch_size)(resized_image)\n",
        "print(f\"Image size: {image_size} X {image_size}\")\n",
        "print(f\"Patch size: {patch_size} X {patch_size}\")\n",
        "print(f\"Patches per image: {patches.shape[1]}\")\n",
        "print(f\"Elements per patch: {patches.shape[-1]}\")\n",
        "\n",
        "n = int(np.sqrt(patches.shape[1]))\n",
        "plt.figure(figsize=(4, 4))\n",
        "for i, patch in enumerate(patches[0]):\n",
        "    ax = plt.subplot(n, n, i + 1)\n",
        "    patch_img = tf.reshape(patch, (patch_size, patch_size, 3))\n",
        "    plt.imshow(patch_img.numpy().astype(\"uint8\"))\n",
        "    plt.axis(\"off\")"
      ]
    },
    {
      "cell_type": "markdown",
      "metadata": {
        "id": "NUDvuiJXcL0G"
      },
      "source": [
        "## Implement the patch encoding layer\n",
        "\n",
        " `PatchEncoder` layer 는 레이어를 선형으로 'projection_dim'사이즈로 transform합니다. 그리고 학습가능한 위치의 벡터에 투영합니다. "
      ]
    },
    {
      "cell_type": "code",
      "execution_count": null,
      "metadata": {
        "id": "M2deyFRIcL0G"
      },
      "outputs": [],
      "source": [
        "\n",
        "class PatchEncoder(layers.Layer):\n",
        "    def __init__(self, num_patches, projection_dim):\n",
        "        super(PatchEncoder, self).__init__()\n",
        "        self.num_patches = num_patches\n",
        "        self.projection = layers.Dense(units=projection_dim)\n",
        "        self.position_embedding = layers.Embedding(\n",
        "            input_dim=num_patches, output_dim=projection_dim\n",
        "        )\n",
        "\n",
        "    def call(self, patch):\n",
        "        positions = tf.range(start=0, limit=self.num_patches, delta=1)\n",
        "        encoded = self.projection(patch) + self.position_embedding(positions)\n",
        "        return encoded\n"
      ]
    },
    {
      "cell_type": "markdown",
      "metadata": {
        "id": "AHDzmzb9cL0G"
      },
      "source": [
        "## Build the ViT model\n",
        "\n",
        "ViT model은 여러개의 Transformer block으로 구성되며 ,  self-attention mechanism으로 적용되는 'layers.MultiHeadAttention' 레이어를 사용하는 patch sequence에 적용됩니다. Transformer block은 '[batch_size, num_patches, projection_dim]'으로 처리되며, 최종 class의 output을 출력하기 위해 softmax처리됩니다. \n",
        "\n",
        "[paper](https://arxiv.org/abs/2010.11929) 에 기술한 것과 다르게, 제공할 인코딩된 패치 시퀀스에 이미지표현으로 학습가능한 임베딩을 추가합니다. 최종 Transformer의 모든 출력은 'layer.Flatten()'으로 모양을 변경하고 classifier head 에 input으로 사용됩니다. 'layers.GlobalAveragePooling1D' 레이어는\n",
        "Transformer 블록의 출력을 집계하는 뿐아니라 patch와 projection dimension수가 클 때 사용할 수도 있습니다."
      ]
    },
    {
      "cell_type": "code",
      "execution_count": null,
      "metadata": {
        "id": "Rv7vHSuGcL0H"
      },
      "outputs": [],
      "source": [
        "\n",
        "def create_vit_classifier():\n",
        "    inputs = layers.Input(shape=input_shape)\n",
        "    # Augment data.\n",
        "    augmented = data_augmentation(inputs)\n",
        "    # Create patches.\n",
        "    patches = Patches(patch_size)(augmented)\n",
        "    # Encode patches.\n",
        "    encoded_patches = PatchEncoder(num_patches, projection_dim)(patches)\n",
        "\n",
        "    # Create multiple layers of the Transformer block.\n",
        "    for _ in range(transformer_layers):\n",
        "        # Layer normalization 1.\n",
        "        x1 = layers.LayerNormalization(epsilon=1e-6)(encoded_patches)\n",
        "        # Create a multi-head attention layer.\n",
        "        attention_output = layers.MultiHeadAttention(\n",
        "            num_heads=num_heads, key_dim=projection_dim, dropout=0.1\n",
        "        )(x1, x1)\n",
        "        # Skip connection 1.\n",
        "        x2 = layers.Add()([attention_output, encoded_patches])\n",
        "        # Layer normalization 2.\n",
        "        x3 = layers.LayerNormalization(epsilon=1e-6)(x2)\n",
        "        # MLP.\n",
        "        x3 = mlp(x3, hidden_units=transformer_units, dropout_rate=0.1)\n",
        "        # Skip connection 2.\n",
        "        encoded_patches = layers.Add()([x3, x2])\n",
        "\n",
        "    # Create a [batch_size, projection_dim] tensor.\n",
        "    representation = layers.LayerNormalization(epsilon=1e-6)(encoded_patches)\n",
        "    representation = layers.Flatten()(representation)\n",
        "    representation = layers.Dropout(0.5)(representation)\n",
        "    # Add MLP.\n",
        "    features = mlp(representation, hidden_units=mlp_head_units, dropout_rate=0.5)\n",
        "    # Classify outputs.\n",
        "    logits = layers.Dense(num_classes)(features)\n",
        "    # Create the Keras model.\n",
        "    model = keras.Model(inputs=inputs, outputs=logits)\n",
        "    return model\n"
      ]
    },
    {
      "cell_type": "markdown",
      "metadata": {
        "id": "xMsJqAqPcL0H"
      },
      "source": [
        "## Compile, train, and evaluate the mode"
      ]
    },
    {
      "cell_type": "code",
      "execution_count": null,
      "metadata": {
        "id": "JPbtffXkcL0H",
        "outputId": "093142ba-e9e9-4e79-92b8-eabb3eb09968",
        "colab": {
          "base_uri": "https://localhost:8080/"
        }
      },
      "outputs": [
        {
          "output_type": "stream",
          "name": "stdout",
          "text": [
            "Epoch 1/100\n",
            "176/176 [==============================] - 99s 497ms/step - loss: 4.4841 - accuracy: 0.0436 - top-5-accuracy: 0.1579 - val_loss: 3.9504 - val_accuracy: 0.1096 - val_top-5-accuracy: 0.3226\n",
            "Epoch 2/100\n",
            "176/176 [==============================] - 84s 480ms/step - loss: 3.9312 - accuracy: 0.0984 - top-5-accuracy: 0.2985 - val_loss: 3.5225 - val_accuracy: 0.1758 - val_top-5-accuracy: 0.4246\n",
            "Epoch 3/100\n",
            "176/176 [==============================] - 85s 480ms/step - loss: 3.6538 - accuracy: 0.1379 - top-5-accuracy: 0.3816 - val_loss: 3.3483 - val_accuracy: 0.2014 - val_top-5-accuracy: 0.4774\n",
            "Epoch 4/100\n",
            "176/176 [==============================] - 85s 482ms/step - loss: 3.4739 - accuracy: 0.1666 - top-5-accuracy: 0.4308 - val_loss: 3.1843 - val_accuracy: 0.2286 - val_top-5-accuracy: 0.5176\n",
            "Epoch 5/100\n",
            "176/176 [==============================] - 84s 477ms/step - loss: 3.3312 - accuracy: 0.1928 - top-5-accuracy: 0.4705 - val_loss: 3.0181 - val_accuracy: 0.2600 - val_top-5-accuracy: 0.5536\n",
            "Epoch 6/100\n",
            "176/176 [==============================] - 85s 483ms/step - loss: 3.2052 - accuracy: 0.2189 - top-5-accuracy: 0.5060 - val_loss: 2.9074 - val_accuracy: 0.2800 - val_top-5-accuracy: 0.5846\n",
            "Epoch 7/100\n",
            "176/176 [==============================] - 84s 477ms/step - loss: 3.0875 - accuracy: 0.2377 - top-5-accuracy: 0.5362 - val_loss: 2.8202 - val_accuracy: 0.2962 - val_top-5-accuracy: 0.6074\n",
            "Epoch 8/100\n",
            "176/176 [==============================] - 84s 476ms/step - loss: 2.9958 - accuracy: 0.2562 - top-5-accuracy: 0.5558 - val_loss: 2.7115 - val_accuracy: 0.3208 - val_top-5-accuracy: 0.6326\n",
            "Epoch 9/100\n",
            "176/176 [==============================] - 85s 482ms/step - loss: 2.8793 - accuracy: 0.2800 - top-5-accuracy: 0.5864 - val_loss: 2.6302 - val_accuracy: 0.3474 - val_top-5-accuracy: 0.6420\n",
            "Epoch 10/100\n",
            "176/176 [==============================] - 84s 478ms/step - loss: 2.7844 - accuracy: 0.2985 - top-5-accuracy: 0.6088 - val_loss: 2.5531 - val_accuracy: 0.3502 - val_top-5-accuracy: 0.6588\n",
            "Epoch 11/100\n",
            "176/176 [==============================] - 84s 476ms/step - loss: 2.6975 - accuracy: 0.3138 - top-5-accuracy: 0.6263 - val_loss: 2.5001 - val_accuracy: 0.3632 - val_top-5-accuracy: 0.6668\n",
            "Epoch 12/100\n",
            "176/176 [==============================] - 85s 481ms/step - loss: 2.6160 - accuracy: 0.3338 - top-5-accuracy: 0.6460 - val_loss: 2.4130 - val_accuracy: 0.3812 - val_top-5-accuracy: 0.6882\n",
            "Epoch 13/100\n",
            "176/176 [==============================] - 84s 477ms/step - loss: 2.5392 - accuracy: 0.3502 - top-5-accuracy: 0.6614 - val_loss: 2.3608 - val_accuracy: 0.3910 - val_top-5-accuracy: 0.6978\n",
            "Epoch 14/100\n",
            "176/176 [==============================] - 84s 477ms/step - loss: 2.4746 - accuracy: 0.3617 - top-5-accuracy: 0.6790 - val_loss: 2.3247 - val_accuracy: 0.4036 - val_top-5-accuracy: 0.7062\n",
            "Epoch 15/100\n",
            "176/176 [==============================] - 84s 476ms/step - loss: 2.4208 - accuracy: 0.3737 - top-5-accuracy: 0.6880 - val_loss: 2.2763 - val_accuracy: 0.4160 - val_top-5-accuracy: 0.7158\n",
            "Epoch 16/100\n",
            "176/176 [==============================] - 84s 477ms/step - loss: 2.3405 - accuracy: 0.3883 - top-5-accuracy: 0.7079 - val_loss: 2.2152 - val_accuracy: 0.4200 - val_top-5-accuracy: 0.7260\n",
            "Epoch 17/100\n",
            "176/176 [==============================] - 85s 482ms/step - loss: 2.2868 - accuracy: 0.4028 - top-5-accuracy: 0.7144 - val_loss: 2.1822 - val_accuracy: 0.4264 - val_top-5-accuracy: 0.7284\n",
            "Epoch 18/100\n",
            "176/176 [==============================] - 84s 476ms/step - loss: 2.2212 - accuracy: 0.4137 - top-5-accuracy: 0.7293 - val_loss: 2.1289 - val_accuracy: 0.4400 - val_top-5-accuracy: 0.7438\n",
            "Epoch 19/100\n",
            "176/176 [==============================] - 83s 472ms/step - loss: 2.1620 - accuracy: 0.4265 - top-5-accuracy: 0.7428 - val_loss: 2.1546 - val_accuracy: 0.4300 - val_top-5-accuracy: 0.7398\n",
            "Epoch 20/100\n",
            "176/176 [==============================] - 85s 483ms/step - loss: 2.1050 - accuracy: 0.4405 - top-5-accuracy: 0.7522 - val_loss: 2.0996 - val_accuracy: 0.4502 - val_top-5-accuracy: 0.7478\n",
            "Epoch 21/100\n",
            "176/176 [==============================] - 84s 479ms/step - loss: 2.0412 - accuracy: 0.4529 - top-5-accuracy: 0.7674 - val_loss: 2.0518 - val_accuracy: 0.4624 - val_top-5-accuracy: 0.7560\n",
            "Epoch 22/100\n",
            "176/176 [==============================] - 83s 473ms/step - loss: 2.0033 - accuracy: 0.4642 - top-5-accuracy: 0.7717 - val_loss: 2.0505 - val_accuracy: 0.4620 - val_top-5-accuracy: 0.7562\n",
            "Epoch 23/100\n",
            "176/176 [==============================] - 85s 483ms/step - loss: 1.9579 - accuracy: 0.4737 - top-5-accuracy: 0.7830 - val_loss: 1.9958 - val_accuracy: 0.4710 - val_top-5-accuracy: 0.7660\n",
            "Epoch 24/100\n",
            "176/176 [==============================] - 84s 478ms/step - loss: 1.9136 - accuracy: 0.4831 - top-5-accuracy: 0.7898 - val_loss: 1.9975 - val_accuracy: 0.4758 - val_top-5-accuracy: 0.7686\n",
            "Epoch 25/100\n",
            "176/176 [==============================] - 84s 479ms/step - loss: 1.8636 - accuracy: 0.4931 - top-5-accuracy: 0.8016 - val_loss: 1.9477 - val_accuracy: 0.4860 - val_top-5-accuracy: 0.7758\n",
            "Epoch 26/100\n",
            "176/176 [==============================] - 84s 478ms/step - loss: 1.8280 - accuracy: 0.5015 - top-5-accuracy: 0.8060 - val_loss: 1.9953 - val_accuracy: 0.4732 - val_top-5-accuracy: 0.7642\n",
            "Epoch 27/100\n",
            "176/176 [==============================] - 84s 477ms/step - loss: 1.7897 - accuracy: 0.5109 - top-5-accuracy: 0.8132 - val_loss: 1.9432 - val_accuracy: 0.4870 - val_top-5-accuracy: 0.7788\n",
            "Epoch 28/100\n",
            "176/176 [==============================] - 85s 483ms/step - loss: 1.7437 - accuracy: 0.5209 - top-5-accuracy: 0.8218 - val_loss: 1.9387 - val_accuracy: 0.4882 - val_top-5-accuracy: 0.7810\n",
            "Epoch 29/100\n",
            "176/176 [==============================] - 84s 477ms/step - loss: 1.7035 - accuracy: 0.5322 - top-5-accuracy: 0.8290 - val_loss: 1.9175 - val_accuracy: 0.4920 - val_top-5-accuracy: 0.7874\n",
            "Epoch 30/100\n",
            "176/176 [==============================] - 84s 477ms/step - loss: 1.6714 - accuracy: 0.5374 - top-5-accuracy: 0.8336 - val_loss: 1.8969 - val_accuracy: 0.4976 - val_top-5-accuracy: 0.7890\n",
            "Epoch 31/100\n",
            "176/176 [==============================] - 84s 477ms/step - loss: 1.6395 - accuracy: 0.5439 - top-5-accuracy: 0.8406 - val_loss: 1.9116 - val_accuracy: 0.4948 - val_top-5-accuracy: 0.7834\n",
            "Epoch 32/100\n",
            "176/176 [==============================] - 84s 476ms/step - loss: 1.6108 - accuracy: 0.5502 - top-5-accuracy: 0.8461 - val_loss: 1.9095 - val_accuracy: 0.5078 - val_top-5-accuracy: 0.7868\n",
            "Epoch 33/100\n",
            "176/176 [==============================] - 84s 478ms/step - loss: 1.5731 - accuracy: 0.5598 - top-5-accuracy: 0.8514 - val_loss: 1.9198 - val_accuracy: 0.4900 - val_top-5-accuracy: 0.7848\n",
            "Epoch 34/100\n",
            "176/176 [==============================] - 83s 471ms/step - loss: 1.5520 - accuracy: 0.5625 - top-5-accuracy: 0.8546 - val_loss: 1.9104 - val_accuracy: 0.4982 - val_top-5-accuracy: 0.7906\n",
            "Epoch 35/100\n",
            "176/176 [==============================] - 84s 476ms/step - loss: 1.5279 - accuracy: 0.5711 - top-5-accuracy: 0.8570 - val_loss: 1.8810 - val_accuracy: 0.5092 - val_top-5-accuracy: 0.7950\n",
            "Epoch 36/100\n",
            "176/176 [==============================] - 85s 482ms/step - loss: 1.5051 - accuracy: 0.5769 - top-5-accuracy: 0.8613 - val_loss: 1.8714 - val_accuracy: 0.5138 - val_top-5-accuracy: 0.7952\n",
            "Epoch 37/100\n",
            "176/176 [==============================] - 83s 472ms/step - loss: 1.4610 - accuracy: 0.5872 - top-5-accuracy: 0.8706 - val_loss: 1.8803 - val_accuracy: 0.5054 - val_top-5-accuracy: 0.7946\n",
            "Epoch 38/100\n",
            "176/176 [==============================] - 83s 471ms/step - loss: 1.4300 - accuracy: 0.5972 - top-5-accuracy: 0.8740 - val_loss: 1.8720 - val_accuracy: 0.5122 - val_top-5-accuracy: 0.7988\n",
            "Epoch 39/100\n",
            "176/176 [==============================] - 84s 477ms/step - loss: 1.4095 - accuracy: 0.5983 - top-5-accuracy: 0.8773 - val_loss: 1.8981 - val_accuracy: 0.5076 - val_top-5-accuracy: 0.7916\n",
            "Epoch 40/100\n",
            "176/176 [==============================] - 83s 473ms/step - loss: 1.3785 - accuracy: 0.6082 - top-5-accuracy: 0.8818 - val_loss: 1.8639 - val_accuracy: 0.5122 - val_top-5-accuracy: 0.7908\n",
            "Epoch 41/100\n",
            "176/176 [==============================] - 84s 477ms/step - loss: 1.3765 - accuracy: 0.6075 - top-5-accuracy: 0.8834 - val_loss: 1.8442 - val_accuracy: 0.5236 - val_top-5-accuracy: 0.8050\n",
            "Epoch 42/100\n",
            "176/176 [==============================] - 84s 478ms/step - loss: 1.3324 - accuracy: 0.6177 - top-5-accuracy: 0.8899 - val_loss: 1.8523 - val_accuracy: 0.5202 - val_top-5-accuracy: 0.8010\n",
            "Epoch 43/100\n",
            "176/176 [==============================] - 83s 473ms/step - loss: 1.3020 - accuracy: 0.6269 - top-5-accuracy: 0.8939 - val_loss: 1.8713 - val_accuracy: 0.5198 - val_top-5-accuracy: 0.7974\n",
            "Epoch 44/100\n",
            "176/176 [==============================] - 84s 479ms/step - loss: 1.3007 - accuracy: 0.6262 - top-5-accuracy: 0.8951 - val_loss: 1.8259 - val_accuracy: 0.5258 - val_top-5-accuracy: 0.8084\n",
            "Epoch 45/100\n",
            "176/176 [==============================] - 84s 474ms/step - loss: 1.2798 - accuracy: 0.6312 - top-5-accuracy: 0.8977 - val_loss: 1.8483 - val_accuracy: 0.5188 - val_top-5-accuracy: 0.8072\n",
            "Epoch 46/100\n",
            "176/176 [==============================] - 83s 471ms/step - loss: 1.2450 - accuracy: 0.6402 - top-5-accuracy: 0.9021 - val_loss: 1.8503 - val_accuracy: 0.5224 - val_top-5-accuracy: 0.8008\n",
            "Epoch 47/100\n",
            "176/176 [==============================] - 85s 481ms/step - loss: 1.2418 - accuracy: 0.6384 - top-5-accuracy: 0.9036 - val_loss: 1.8569 - val_accuracy: 0.5310 - val_top-5-accuracy: 0.8106\n",
            "Epoch 48/100\n",
            "176/176 [==============================] - 83s 471ms/step - loss: 1.2196 - accuracy: 0.6475 - top-5-accuracy: 0.9070 - val_loss: 1.8601 - val_accuracy: 0.5246 - val_top-5-accuracy: 0.8136\n",
            "Epoch 49/100\n",
            "176/176 [==============================] - 84s 476ms/step - loss: 1.2071 - accuracy: 0.6508 - top-5-accuracy: 0.9088 - val_loss: 1.8422 - val_accuracy: 0.5368 - val_top-5-accuracy: 0.8114\n",
            "Epoch 50/100\n",
            "176/176 [==============================] - 84s 476ms/step - loss: 1.1898 - accuracy: 0.6533 - top-5-accuracy: 0.9116 - val_loss: 1.8611 - val_accuracy: 0.5298 - val_top-5-accuracy: 0.8084\n",
            "Epoch 51/100\n",
            "176/176 [==============================] - 83s 472ms/step - loss: 1.1707 - accuracy: 0.6590 - top-5-accuracy: 0.9139 - val_loss: 1.8245 - val_accuracy: 0.5326 - val_top-5-accuracy: 0.8108\n",
            "Epoch 52/100\n",
            "176/176 [==============================] - 83s 472ms/step - loss: 1.1440 - accuracy: 0.6664 - top-5-accuracy: 0.9165 - val_loss: 1.8639 - val_accuracy: 0.5270 - val_top-5-accuracy: 0.8030\n",
            "Epoch 53/100\n",
            "176/176 [==============================] - 84s 476ms/step - loss: 1.1448 - accuracy: 0.6670 - top-5-accuracy: 0.9186 - val_loss: 1.8425 - val_accuracy: 0.5268 - val_top-5-accuracy: 0.8068\n",
            "Epoch 54/100\n",
            "176/176 [==============================] - 83s 471ms/step - loss: 1.1286 - accuracy: 0.6706 - top-5-accuracy: 0.9197 - val_loss: 1.8729 - val_accuracy: 0.5292 - val_top-5-accuracy: 0.8074\n",
            "Epoch 55/100\n",
            "176/176 [==============================] - 83s 473ms/step - loss: 1.1002 - accuracy: 0.6774 - top-5-accuracy: 0.9230 - val_loss: 1.8580 - val_accuracy: 0.5330 - val_top-5-accuracy: 0.8082\n",
            "Epoch 56/100\n",
            "176/176 [==============================] - 84s 478ms/step - loss: 1.0923 - accuracy: 0.6788 - top-5-accuracy: 0.9248 - val_loss: 1.8517 - val_accuracy: 0.5338 - val_top-5-accuracy: 0.8076\n",
            "Epoch 57/100\n",
            "176/176 [==============================] - 83s 471ms/step - loss: 1.0794 - accuracy: 0.6840 - top-5-accuracy: 0.9267 - val_loss: 1.8706 - val_accuracy: 0.5330 - val_top-5-accuracy: 0.8054\n",
            "Epoch 58/100\n",
            "176/176 [==============================] - 83s 471ms/step - loss: 1.0695 - accuracy: 0.6866 - top-5-accuracy: 0.9286 - val_loss: 1.8361 - val_accuracy: 0.5284 - val_top-5-accuracy: 0.8084\n",
            "Epoch 59/100\n",
            "176/176 [==============================] - 84s 475ms/step - loss: 1.0503 - accuracy: 0.6885 - top-5-accuracy: 0.9308 - val_loss: 1.8481 - val_accuracy: 0.5360 - val_top-5-accuracy: 0.8144\n",
            "Epoch 60/100\n",
            "176/176 [==============================] - 82s 469ms/step - loss: 1.0517 - accuracy: 0.6912 - top-5-accuracy: 0.9287 - val_loss: 1.8367 - val_accuracy: 0.5352 - val_top-5-accuracy: 0.8156\n",
            "Epoch 61/100\n",
            "176/176 [==============================] - 84s 476ms/step - loss: 1.0367 - accuracy: 0.6955 - top-5-accuracy: 0.9322 - val_loss: 1.8567 - val_accuracy: 0.5370 - val_top-5-accuracy: 0.8092\n",
            "Epoch 62/100\n",
            "176/176 [==============================] - 84s 478ms/step - loss: 1.0175 - accuracy: 0.6987 - top-5-accuracy: 0.9356 - val_loss: 1.8524 - val_accuracy: 0.5388 - val_top-5-accuracy: 0.8140\n",
            "Epoch 63/100\n",
            "176/176 [==============================] - 84s 477ms/step - loss: 1.0064 - accuracy: 0.7034 - top-5-accuracy: 0.9352 - val_loss: 1.8569 - val_accuracy: 0.5416 - val_top-5-accuracy: 0.8140\n",
            "Epoch 64/100\n",
            "176/176 [==============================] - 83s 474ms/step - loss: 1.0061 - accuracy: 0.7026 - top-5-accuracy: 0.9346 - val_loss: 1.9001 - val_accuracy: 0.5244 - val_top-5-accuracy: 0.8062\n",
            "Epoch 65/100\n",
            "176/176 [==============================] - 83s 469ms/step - loss: 0.9969 - accuracy: 0.7062 - top-5-accuracy: 0.9375 - val_loss: 1.8676 - val_accuracy: 0.5342 - val_top-5-accuracy: 0.8106\n",
            "Epoch 66/100\n",
            "176/176 [==============================] - 83s 469ms/step - loss: 0.9824 - accuracy: 0.7091 - top-5-accuracy: 0.9406 - val_loss: 1.8352 - val_accuracy: 0.5376 - val_top-5-accuracy: 0.8172\n",
            "Epoch 67/100\n",
            "176/176 [==============================] - 83s 474ms/step - loss: 0.9748 - accuracy: 0.7118 - top-5-accuracy: 0.9395 - val_loss: 1.8604 - val_accuracy: 0.5346 - val_top-5-accuracy: 0.8104\n",
            "Epoch 68/100\n",
            "176/176 [==============================] - 83s 473ms/step - loss: 0.9726 - accuracy: 0.7120 - top-5-accuracy: 0.9402 - val_loss: 1.8558 - val_accuracy: 0.5416 - val_top-5-accuracy: 0.8154\n",
            "Epoch 69/100\n",
            "176/176 [==============================] - 83s 472ms/step - loss: 0.9697 - accuracy: 0.7133 - top-5-accuracy: 0.9396 - val_loss: 1.8559 - val_accuracy: 0.5406 - val_top-5-accuracy: 0.8122\n",
            "Epoch 70/100\n",
            "176/176 [==============================] - 84s 478ms/step - loss: 0.9506 - accuracy: 0.7173 - top-5-accuracy: 0.9424 - val_loss: 1.8587 - val_accuracy: 0.5420 - val_top-5-accuracy: 0.8150\n",
            "Epoch 71/100\n",
            "176/176 [==============================] - 83s 469ms/step - loss: 0.9429 - accuracy: 0.7193 - top-5-accuracy: 0.9429 - val_loss: 1.8816 - val_accuracy: 0.5414 - val_top-5-accuracy: 0.8158\n",
            "Epoch 72/100\n",
            "176/176 [==============================] - 83s 472ms/step - loss: 0.9348 - accuracy: 0.7236 - top-5-accuracy: 0.9427 - val_loss: 1.8776 - val_accuracy: 0.5446 - val_top-5-accuracy: 0.8100\n",
            "Epoch 73/100\n",
            "176/176 [==============================] - 83s 471ms/step - loss: 0.9195 - accuracy: 0.7262 - top-5-accuracy: 0.9455 - val_loss: 1.8658 - val_accuracy: 0.5378 - val_top-5-accuracy: 0.8100\n",
            "Epoch 74/100\n",
            "176/176 [==============================] - 83s 472ms/step - loss: 0.9087 - accuracy: 0.7293 - top-5-accuracy: 0.9479 - val_loss: 1.8656 - val_accuracy: 0.5492 - val_top-5-accuracy: 0.8158\n",
            "Epoch 75/100\n",
            "176/176 [==============================] - 83s 471ms/step - loss: 0.9165 - accuracy: 0.7278 - top-5-accuracy: 0.9476 - val_loss: 1.8337 - val_accuracy: 0.5482 - val_top-5-accuracy: 0.8172\n",
            "Epoch 76/100\n",
            "176/176 [==============================] - 84s 476ms/step - loss: 0.8947 - accuracy: 0.7330 - top-5-accuracy: 0.9479 - val_loss: 1.8667 - val_accuracy: 0.5342 - val_top-5-accuracy: 0.8122\n",
            "Epoch 77/100\n",
            "176/176 [==============================] - 83s 472ms/step - loss: 0.8788 - accuracy: 0.7362 - top-5-accuracy: 0.9500 - val_loss: 1.8494 - val_accuracy: 0.5462 - val_top-5-accuracy: 0.8118\n",
            "Epoch 78/100\n",
            "176/176 [==============================] - 83s 473ms/step - loss: 0.8694 - accuracy: 0.7410 - top-5-accuracy: 0.9513 - val_loss: 1.8818 - val_accuracy: 0.5394 - val_top-5-accuracy: 0.8198\n",
            "Epoch 79/100\n",
            "176/176 [==============================] - 84s 477ms/step - loss: 0.8849 - accuracy: 0.7364 - top-5-accuracy: 0.9507 - val_loss: 1.8782 - val_accuracy: 0.5440 - val_top-5-accuracy: 0.8142\n",
            "Epoch 80/100\n",
            "176/176 [==============================] - 83s 473ms/step - loss: 0.8654 - accuracy: 0.7425 - top-5-accuracy: 0.9519 - val_loss: 1.8981 - val_accuracy: 0.5392 - val_top-5-accuracy: 0.8106\n",
            "Epoch 81/100\n",
            "176/176 [==============================] - 84s 477ms/step - loss: 0.8707 - accuracy: 0.7385 - top-5-accuracy: 0.9524 - val_loss: 1.8913 - val_accuracy: 0.5496 - val_top-5-accuracy: 0.8182\n",
            "Epoch 82/100\n",
            "176/176 [==============================] - 84s 477ms/step - loss: 0.8546 - accuracy: 0.7438 - top-5-accuracy: 0.9537 - val_loss: 1.8926 - val_accuracy: 0.5440 - val_top-5-accuracy: 0.8132\n",
            "Epoch 83/100\n",
            "176/176 [==============================] - 83s 473ms/step - loss: 0.8549 - accuracy: 0.7460 - top-5-accuracy: 0.9521 - val_loss: 1.9049 - val_accuracy: 0.5390 - val_top-5-accuracy: 0.8102\n",
            "Epoch 84/100\n",
            "176/176 [==============================] - 83s 471ms/step - loss: 0.8503 - accuracy: 0.7475 - top-5-accuracy: 0.9522 - val_loss: 1.9250 - val_accuracy: 0.5438 - val_top-5-accuracy: 0.8142\n",
            "Epoch 85/100\n",
            "176/176 [==============================] - 83s 472ms/step - loss: 0.8423 - accuracy: 0.7479 - top-5-accuracy: 0.9536 - val_loss: 1.9479 - val_accuracy: 0.5420 - val_top-5-accuracy: 0.8136\n",
            "Epoch 86/100\n",
            "176/176 [==============================] - 82s 468ms/step - loss: 0.8445 - accuracy: 0.7483 - top-5-accuracy: 0.9539 - val_loss: 1.9119 - val_accuracy: 0.5384 - val_top-5-accuracy: 0.8028\n",
            "Epoch 87/100\n",
            "176/176 [==============================] - 82s 468ms/step - loss: 0.8324 - accuracy: 0.7532 - top-5-accuracy: 0.9553 - val_loss: 1.8885 - val_accuracy: 0.5352 - val_top-5-accuracy: 0.8084\n",
            "Epoch 88/100\n",
            "176/176 [==============================] - 83s 471ms/step - loss: 0.8230 - accuracy: 0.7534 - top-5-accuracy: 0.9559 - val_loss: 1.8839 - val_accuracy: 0.5396 - val_top-5-accuracy: 0.8088\n",
            "Epoch 89/100\n",
            "176/176 [==============================] - 82s 468ms/step - loss: 0.8208 - accuracy: 0.7538 - top-5-accuracy: 0.9560 - val_loss: 1.8878 - val_accuracy: 0.5402 - val_top-5-accuracy: 0.8192\n",
            "Epoch 90/100\n",
            "176/176 [==============================] - 82s 467ms/step - loss: 0.8177 - accuracy: 0.7557 - top-5-accuracy: 0.9576 - val_loss: 1.9003 - val_accuracy: 0.5408 - val_top-5-accuracy: 0.8138\n",
            "Epoch 91/100\n",
            "176/176 [==============================] - 83s 472ms/step - loss: 0.8107 - accuracy: 0.7576 - top-5-accuracy: 0.9572 - val_loss: 1.9169 - val_accuracy: 0.5384 - val_top-5-accuracy: 0.8084\n",
            "Epoch 92/100\n",
            "176/176 [==============================] - 83s 474ms/step - loss: 0.8138 - accuracy: 0.7554 - top-5-accuracy: 0.9576 - val_loss: 1.8874 - val_accuracy: 0.5504 - val_top-5-accuracy: 0.8128\n",
            "Epoch 93/100\n",
            "176/176 [==============================] - 82s 469ms/step - loss: 0.8029 - accuracy: 0.7592 - top-5-accuracy: 0.9581 - val_loss: 1.8932 - val_accuracy: 0.5448 - val_top-5-accuracy: 0.8118\n",
            "Epoch 94/100\n",
            "176/176 [==============================] - 83s 472ms/step - loss: 0.8060 - accuracy: 0.7583 - top-5-accuracy: 0.9572 - val_loss: 1.8950 - val_accuracy: 0.5402 - val_top-5-accuracy: 0.8148\n",
            "Epoch 95/100\n",
            "176/176 [==============================] - 82s 467ms/step - loss: 0.7913 - accuracy: 0.7616 - top-5-accuracy: 0.9592 - val_loss: 1.9095 - val_accuracy: 0.5498 - val_top-5-accuracy: 0.8186\n",
            "Epoch 96/100\n",
            "176/176 [==============================] - 82s 468ms/step - loss: 0.7982 - accuracy: 0.7582 - top-5-accuracy: 0.9585 - val_loss: 1.9039 - val_accuracy: 0.5466 - val_top-5-accuracy: 0.8136\n",
            "Epoch 97/100\n",
            "176/176 [==============================] - 83s 470ms/step - loss: 0.7992 - accuracy: 0.7621 - top-5-accuracy: 0.9576 - val_loss: 1.9036 - val_accuracy: 0.5390 - val_top-5-accuracy: 0.8110\n",
            "Epoch 98/100\n",
            "176/176 [==============================] - 82s 467ms/step - loss: 0.7876 - accuracy: 0.7631 - top-5-accuracy: 0.9600 - val_loss: 1.8755 - val_accuracy: 0.5476 - val_top-5-accuracy: 0.8184\n",
            "Epoch 99/100\n",
            "176/176 [==============================] - 82s 468ms/step - loss: 0.7865 - accuracy: 0.7633 - top-5-accuracy: 0.9591 - val_loss: 1.8919 - val_accuracy: 0.5458 - val_top-5-accuracy: 0.8164\n",
            "Epoch 100/100\n",
            "176/176 [==============================] - 83s 469ms/step - loss: 0.7825 - accuracy: 0.7667 - top-5-accuracy: 0.9600 - val_loss: 1.9316 - val_accuracy: 0.5498 - val_top-5-accuracy: 0.8210\n",
            "313/313 [==============================] - 7s 22ms/step - loss: 1.8324 - accuracy: 0.5549 - top-5-accuracy: 0.8194\n",
            "Test accuracy: 55.49%\n",
            "Test top 5 accuracy: 81.94%\n"
          ]
        }
      ],
      "source": [
        "\n",
        "def run_experiment(model):\n",
        "    optimizer = tfa.optimizers.AdamW(\n",
        "        learning_rate=learning_rate, weight_decay=weight_decay\n",
        "    )\n",
        "\n",
        "    model.compile(\n",
        "        optimizer=optimizer,\n",
        "        loss=keras.losses.SparseCategoricalCrossentropy(from_logits=True),\n",
        "        metrics=[\n",
        "            keras.metrics.SparseCategoricalAccuracy(name=\"accuracy\"),\n",
        "            keras.metrics.SparseTopKCategoricalAccuracy(5, name=\"top-5-accuracy\"),\n",
        "        ],\n",
        "    )\n",
        "\n",
        "    checkpoint_filepath = \"/tmp/checkpoint\"\n",
        "    checkpoint_callback = keras.callbacks.ModelCheckpoint(\n",
        "        checkpoint_filepath,\n",
        "        monitor=\"val_accuracy\",\n",
        "        save_best_only=True,\n",
        "        save_weights_only=True,\n",
        "    )\n",
        "\n",
        "    history = model.fit(\n",
        "        x=x_train,\n",
        "        y=y_train,\n",
        "        batch_size=batch_size,\n",
        "        epochs=num_epochs,\n",
        "        validation_split=0.1,\n",
        "        callbacks=[checkpoint_callback],\n",
        "    )\n",
        "\n",
        "    model.load_weights(checkpoint_filepath)\n",
        "    _, accuracy, top_5_accuracy = model.evaluate(x_test, y_test)\n",
        "    print(f\"Test accuracy: {round(accuracy * 100, 2)}%\")\n",
        "    print(f\"Test top 5 accuracy: {round(top_5_accuracy * 100, 2)}%\")\n",
        "\n",
        "    return history\n",
        "\n",
        "\n",
        "vit_classifier = create_vit_classifier()\n",
        "history = run_experiment(vit_classifier)\n"
      ]
    },
    {
      "cell_type": "markdown",
      "metadata": {
        "id": "83MdUKuacL0H"
      },
      "source": [
        "100 epochs 후에, ViT model은 test data에서 약 55% accuracy와 top-5 accuracy 82%의 acuuracy 를 얻었습니다. 이것은 CIFAR-100 데이터 세트에 대한 경쟁 결과가 아닙니다.동일한 데이터에 대해 처음부터 훈련된 ResNet50V2는 67%의 정확도를 달성할 수 있습니다.\n",
        "\n",
        "[paper](https://arxiv.org/abs/2010.11929)에 보고된 최신의 결과에서 ViT model 은 JFT-300M dataset 를 사용하여 사전학습한 다음 미세조정함으로써 달성할 수 있습니다. 사전학습 없이 model quality를 향상시키기 위해, model에 epochs수를 늘리거나, 더 많은 Transformer layer를 사용하거나, input image를 resize하거나, patch사이즈를 변경하거나, projection dimension수를 증가시켜볼 수 있습니다. \n",
        "또한, paper에서 언급된 모델의 품질은 architecture선택 뿐 아니라,learning rate schedule, optimizer,weight decay등 과 같은 매개변수에도 영향을 받습니다.\n",
        "\n",
        "실제로도, 대규모의 고해상도 dataset를 사용하여 사전학습을 받은 ViT model을 미세조정하는 것이 좋습니다. "
      ]
    }
  ],
  "metadata": {
    "colab": {
      "collapsed_sections": [],
      "provenance": []
    },
    "environment": {
      "name": "tf2-gpu.2-4.m61",
      "type": "gcloud",
      "uri": "gcr.io/deeplearning-platform-release/tf2-gpu.2-4:m61"
    },
    "kernelspec": {
      "display_name": "Python 3",
      "language": "python",
      "name": "python3"
    },
    "language_info": {
      "codemirror_mode": {
        "name": "ipython",
        "version": 3
      },
      "file_extension": ".py",
      "mimetype": "text/x-python",
      "name": "python",
      "nbconvert_exporter": "python",
      "pygments_lexer": "ipython3",
      "version": "3.7.9"
    },
    "accelerator": "GPU",
    "gpuClass": "standard"
  },
  "nbformat": 4,
  "nbformat_minor": 0
}